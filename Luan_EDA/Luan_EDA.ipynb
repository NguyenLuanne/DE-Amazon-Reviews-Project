{
 "cells": [
  {
   "cell_type": "markdown",
   "metadata": {},
   "source": [
    "# Read files into DataFrame"
   ]
  },
  {
   "cell_type": "code",
   "execution_count": 1,
   "metadata": {},
   "outputs": [],
   "source": [
    "import numpy as np\n",
    "import pandas as pd\n",
    "import json\n",
    "import os\n",
    "\n",
    "def read_json_file(path):\n",
    "    json_list = []\n",
    "    with open(path, 'r') as f:\n",
    "        for line in f:\n",
    "            json_obj = json.loads(line)\n",
    "            json_list.append(json_obj)\n",
    "    \n",
    "    return json_list"
   ]
  },
  {
   "cell_type": "code",
   "execution_count": 2,
   "metadata": {},
   "outputs": [],
   "source": [
    "data_path ='D:\\Study\\DE\\project\\DE-Amazon-Reviews-Project\\data'\n",
    "sub_dirs = os.listdir(data_path)\n",
    "\n",
    "meta_path = os.path.join(data_path, sub_dirs[0])\n",
    "meta_cat = os.listdir(meta_path)\n",
    "meta_list = []\n",
    "for cat in meta_cat:\n",
    "    meta_list.extend(read_json_file(os.path.join(meta_path, cat)))\n",
    "meta = pd.DataFrame(meta_list)\n",
    "\n",
    "review_path = os.path.join(data_path, sub_dirs[1])\n",
    "review_cat = os.listdir(review_path)\n",
    "review_list = []\n",
    "for cat in review_cat:\n",
    "    review_list.extend(read_json_file(os.path.join(review_path, cat)))\n",
    "review = pd.DataFrame(review_list)"
   ]
  },
  {
   "cell_type": "markdown",
   "metadata": {},
   "source": [
    "# Meta EDA"
   ]
  },
  {
   "cell_type": "code",
   "execution_count": 3,
   "metadata": {},
   "outputs": [
    {
     "data": {
      "text/html": [
       "<div>\n",
       "<style scoped>\n",
       "    .dataframe tbody tr th:only-of-type {\n",
       "        vertical-align: middle;\n",
       "    }\n",
       "\n",
       "    .dataframe tbody tr th {\n",
       "        vertical-align: top;\n",
       "    }\n",
       "\n",
       "    .dataframe thead th {\n",
       "        text-align: right;\n",
       "    }\n",
       "</style>\n",
       "<table border=\"1\" class=\"dataframe\">\n",
       "  <thead>\n",
       "    <tr style=\"text-align: right;\">\n",
       "      <th></th>\n",
       "      <th>main_category</th>\n",
       "      <th>title</th>\n",
       "      <th>average_rating</th>\n",
       "      <th>rating_number</th>\n",
       "      <th>features</th>\n",
       "      <th>description</th>\n",
       "      <th>price</th>\n",
       "      <th>images</th>\n",
       "      <th>videos</th>\n",
       "      <th>store</th>\n",
       "      <th>categories</th>\n",
       "      <th>details</th>\n",
       "      <th>parent_asin</th>\n",
       "      <th>bought_together</th>\n",
       "      <th>subtitle</th>\n",
       "      <th>author</th>\n",
       "    </tr>\n",
       "  </thead>\n",
       "  <tbody>\n",
       "    <tr>\n",
       "      <th>0</th>\n",
       "      <td>Digital Music</td>\n",
       "      <td>Baja Marimba Band</td>\n",
       "      <td>4.9</td>\n",
       "      <td>8</td>\n",
       "      <td>[]</td>\n",
       "      <td>[]</td>\n",
       "      <td>None</td>\n",
       "      <td>[{'thumb': 'https://m.media-amazon.com/images/...</td>\n",
       "      <td>[]</td>\n",
       "      <td>None</td>\n",
       "      <td>[]</td>\n",
       "      <td>{'Date First Available': 'February 28, 2010'}</td>\n",
       "      <td>B000V87RP2</td>\n",
       "      <td>None</td>\n",
       "      <td>NaN</td>\n",
       "      <td>NaN</td>\n",
       "    </tr>\n",
       "    <tr>\n",
       "      <th>1</th>\n",
       "      <td>Digital Music</td>\n",
       "      <td>'80s Halloween-All Original Artists &amp; Recordings</td>\n",
       "      <td>5.0</td>\n",
       "      <td>3</td>\n",
       "      <td>[]</td>\n",
       "      <td>[]</td>\n",
       "      <td>14.98</td>\n",
       "      <td>[{'thumb': 'https://m.media-amazon.com/images/...</td>\n",
       "      <td>[]</td>\n",
       "      <td>Love and Rockets  (Artist),     Duran Duran  (...</td>\n",
       "      <td>[]</td>\n",
       "      <td>{'Package Dimensions': '5.55 x 4.97 x 0.54 inc...</td>\n",
       "      <td>B0062F0MJQ</td>\n",
       "      <td>None</td>\n",
       "      <td>NaN</td>\n",
       "      <td>NaN</td>\n",
       "    </tr>\n",
       "    <tr>\n",
       "      <th>2</th>\n",
       "      <td>Digital Music</td>\n",
       "      <td>TRIO +1</td>\n",
       "      <td>5.0</td>\n",
       "      <td>1</td>\n",
       "      <td>[]</td>\n",
       "      <td>[CD ALBUM]</td>\n",
       "      <td>57.99</td>\n",
       "      <td>[{'thumb': 'https://m.media-amazon.com/images/...</td>\n",
       "      <td>[]</td>\n",
       "      <td>Rob Wasserman   Format: Audio CD</td>\n",
       "      <td>[]</td>\n",
       "      <td>{'Is Discontinued By Manufacturer': 'No', 'Pac...</td>\n",
       "      <td>B00005GT12</td>\n",
       "      <td>None</td>\n",
       "      <td>NaN</td>\n",
       "      <td>NaN</td>\n",
       "    </tr>\n",
       "    <tr>\n",
       "      <th>3</th>\n",
       "      <td>Digital Music</td>\n",
       "      <td>Gold and Silver: Lehar, Delibes, Lanner, Johan...</td>\n",
       "      <td>5.0</td>\n",
       "      <td>1</td>\n",
       "      <td>[]</td>\n",
       "      <td>[]</td>\n",
       "      <td>29.91</td>\n",
       "      <td>[{'thumb': 'https://m.media-amazon.com/images/...</td>\n",
       "      <td>[]</td>\n",
       "      <td>Franz Lehar  (Composer),     Leo Delibes  (Com...</td>\n",
       "      <td>[]</td>\n",
       "      <td>{'Manufacturer': 'Hungaroton / White Label', '...</td>\n",
       "      <td>B0007PD2BW</td>\n",
       "      <td>None</td>\n",
       "      <td>NaN</td>\n",
       "      <td>NaN</td>\n",
       "    </tr>\n",
       "    <tr>\n",
       "      <th>4</th>\n",
       "      <td>Digital Music</td>\n",
       "      <td>Grateful Dead Dave's Picks Volume 25 Live at B...</td>\n",
       "      <td>4.9</td>\n",
       "      <td>20</td>\n",
       "      <td>[]</td>\n",
       "      <td>[Sold out. Numbered limited edition]</td>\n",
       "      <td>149.99</td>\n",
       "      <td>[{'thumb': 'https://m.media-amazon.com/images/...</td>\n",
       "      <td>[]</td>\n",
       "      <td>Grateful Dead  (Artist, Orchestra)    Format: ...</td>\n",
       "      <td>[]</td>\n",
       "      <td>{'Package Dimensions': '5.55 x 4.97 x 0.54 inc...</td>\n",
       "      <td>B079CPD45R</td>\n",
       "      <td>None</td>\n",
       "      <td>NaN</td>\n",
       "      <td>NaN</td>\n",
       "    </tr>\n",
       "  </tbody>\n",
       "</table>\n",
       "</div>"
      ],
      "text/plain": [
       "   main_category                                              title  \\\n",
       "0  Digital Music                                  Baja Marimba Band   \n",
       "1  Digital Music   '80s Halloween-All Original Artists & Recordings   \n",
       "2  Digital Music                                            TRIO +1   \n",
       "3  Digital Music  Gold and Silver: Lehar, Delibes, Lanner, Johan...   \n",
       "4  Digital Music  Grateful Dead Dave's Picks Volume 25 Live at B...   \n",
       "\n",
       "   average_rating  rating_number features  \\\n",
       "0             4.9              8       []   \n",
       "1             5.0              3       []   \n",
       "2             5.0              1       []   \n",
       "3             5.0              1       []   \n",
       "4             4.9             20       []   \n",
       "\n",
       "                            description   price  \\\n",
       "0                                    []    None   \n",
       "1                                    []   14.98   \n",
       "2                            [CD ALBUM]   57.99   \n",
       "3                                    []   29.91   \n",
       "4  [Sold out. Numbered limited edition]  149.99   \n",
       "\n",
       "                                              images videos  \\\n",
       "0  [{'thumb': 'https://m.media-amazon.com/images/...     []   \n",
       "1  [{'thumb': 'https://m.media-amazon.com/images/...     []   \n",
       "2  [{'thumb': 'https://m.media-amazon.com/images/...     []   \n",
       "3  [{'thumb': 'https://m.media-amazon.com/images/...     []   \n",
       "4  [{'thumb': 'https://m.media-amazon.com/images/...     []   \n",
       "\n",
       "                                               store categories  \\\n",
       "0                                               None         []   \n",
       "1  Love and Rockets  (Artist),     Duran Duran  (...         []   \n",
       "2                   Rob Wasserman   Format: Audio CD         []   \n",
       "3  Franz Lehar  (Composer),     Leo Delibes  (Com...         []   \n",
       "4  Grateful Dead  (Artist, Orchestra)    Format: ...         []   \n",
       "\n",
       "                                             details parent_asin  \\\n",
       "0      {'Date First Available': 'February 28, 2010'}  B000V87RP2   \n",
       "1  {'Package Dimensions': '5.55 x 4.97 x 0.54 inc...  B0062F0MJQ   \n",
       "2  {'Is Discontinued By Manufacturer': 'No', 'Pac...  B00005GT12   \n",
       "3  {'Manufacturer': 'Hungaroton / White Label', '...  B0007PD2BW   \n",
       "4  {'Package Dimensions': '5.55 x 4.97 x 0.54 inc...  B079CPD45R   \n",
       "\n",
       "  bought_together subtitle  author  \n",
       "0            None      NaN     NaN  \n",
       "1            None      NaN     NaN  \n",
       "2            None      NaN     NaN  \n",
       "3            None      NaN     NaN  \n",
       "4            None      NaN     NaN  "
      ]
     },
     "execution_count": 3,
     "metadata": {},
     "output_type": "execute_result"
    }
   ],
   "source": [
    "meta.head()"
   ]
  },
  {
   "cell_type": "code",
   "execution_count": 4,
   "metadata": {},
   "outputs": [
    {
     "name": "stdout",
     "output_type": "stream",
     "text": [
      "<class 'pandas.core.frame.DataFrame'>\n",
      "RangeIndex: 135999 entries, 0 to 135998\n",
      "Data columns (total 16 columns):\n",
      " #   Column           Non-Null Count   Dtype  \n",
      "---  ------           --------------   -----  \n",
      " 0   main_category    135829 non-null  object \n",
      " 1   title            135999 non-null  object \n",
      " 2   average_rating   135999 non-null  float64\n",
      " 3   rating_number    135999 non-null  int64  \n",
      " 4   features         135999 non-null  object \n",
      " 5   description      135999 non-null  object \n",
      " 6   price            51042 non-null   object \n",
      " 7   images           135999 non-null  object \n",
      " 8   videos           135999 non-null  object \n",
      " 9   store            129220 non-null  object \n",
      " 10  categories       135999 non-null  object \n",
      " 11  details          135999 non-null  object \n",
      " 12  parent_asin      135999 non-null  object \n",
      " 13  bought_together  0 non-null       object \n",
      " 14  subtitle         1 non-null       object \n",
      " 15  author           0 non-null       float64\n",
      "dtypes: float64(2), int64(1), object(13)\n",
      "memory usage: 16.6+ MB\n"
     ]
    }
   ],
   "source": [
    "meta.info()"
   ]
  },
  {
   "cell_type": "code",
   "execution_count": 5,
   "metadata": {},
   "outputs": [
    {
     "data": {
      "text/plain": [
       "main_category      0.001250\n",
       "title              0.000000\n",
       "average_rating     0.000000\n",
       "rating_number      0.000000\n",
       "features           0.000000\n",
       "description        0.000000\n",
       "price              0.624688\n",
       "images             0.000000\n",
       "videos             0.000000\n",
       "store              0.049846\n",
       "categories         0.000000\n",
       "details            0.000000\n",
       "parent_asin        0.000000\n",
       "bought_together    1.000000\n",
       "subtitle           0.999993\n",
       "author             1.000000\n",
       "dtype: float64"
      ]
     },
     "execution_count": 5,
     "metadata": {},
     "output_type": "execute_result"
    }
   ],
   "source": [
    "meta.isna().sum()/len(meta)"
   ]
  },
  {
   "cell_type": "markdown",
   "metadata": {},
   "source": [
    "Missing value nhieu o cac cot price(62%), bought_together(100%), subtitle(99%), author(100%)"
   ]
  },
  {
   "cell_type": "code",
   "execution_count": 6,
   "metadata": {},
   "outputs": [
    {
     "name": "stdout",
     "output_type": "stream",
     "text": [
      "['Digital Music' 'Gift Cards' 'Office Products' None 'Amazon Home'\n",
      " 'Health & Personal Care' 'Software' 'Toys & Games' 'Video Games'\n",
      " 'Sports & Outdoors' 'Grocery' 'All Beauty' 'AMAZON FASHION'\n",
      " 'All Electronics' 'Arts, Crafts & Sewing' 'Books'\n",
      " 'Magazine Subscriptions' 'SUBSCRIPTION BOXES']\n",
      "18\n"
     ]
    }
   ],
   "source": [
    "print(meta['main_category'].unique())\n",
    "print(len(meta['main_category'].unique()))"
   ]
  },
  {
   "cell_type": "markdown",
   "metadata": {},
   "source": [
    "Chi co 5 file categories, nhung co tong cong 17 main categories"
   ]
  },
  {
   "cell_type": "code",
   "execution_count": 7,
   "metadata": {},
   "outputs": [
    {
     "name": "stdout",
     "output_type": "stream",
     "text": [
      "count    135999.000000\n",
      "mean          4.284203\n",
      "std           0.820066\n",
      "min           1.000000\n",
      "25%           4.000000\n",
      "50%           4.500000\n",
      "75%           5.000000\n",
      "max           5.000000\n",
      "Name: average_rating, dtype: float64\n",
      "average_rating\n",
      "5.0    0.066735\n",
      "4.0    0.015091\n",
      "4.5    0.014755\n",
      "4.7    0.014537\n",
      "4.6    0.013609\n",
      "4.8    0.013363\n",
      "4.4    0.009632\n",
      "4.2    0.008624\n",
      "4.3    0.008521\n",
      "4.1    0.006781\n",
      "3.0    0.006584\n",
      "3.9    0.005786\n",
      "3.8    0.005346\n",
      "3.5    0.005235\n",
      "3.7    0.004819\n",
      "4.9    0.004675\n",
      "3.6    0.004456\n",
      "1.0    0.004111\n",
      "3.4    0.003328\n",
      "3.3    0.003137\n",
      "3.2    0.002600\n",
      "3.1    0.002214\n",
      "2.0    0.002185\n",
      "2.9    0.001452\n",
      "2.8    0.001148\n",
      "2.5    0.000971\n",
      "2.7    0.000903\n",
      "2.6    0.000721\n",
      "2.4    0.000426\n",
      "2.3    0.000316\n",
      "2.2    0.000264\n",
      "1.5    0.000261\n",
      "2.1    0.000235\n",
      "1.8    0.000165\n",
      "1.9    0.000141\n",
      "1.7    0.000086\n",
      "1.4    0.000074\n",
      "1.6    0.000070\n",
      "1.3    0.000046\n",
      "1.2    0.000010\n",
      "1.1    0.000002\n",
      "Name: count, dtype: float64\n"
     ]
    }
   ],
   "source": [
    "print(meta['average_rating'].describe())\n",
    "print(meta['average_rating'].value_counts()/(meta['average_rating'].sum()))"
   ]
  },
  {
   "cell_type": "code",
   "execution_count": 8,
   "metadata": {},
   "outputs": [
    {
     "name": "stdout",
     "output_type": "stream",
     "text": [
      "count    135999.000000\n",
      "mean        134.205884\n",
      "std        1621.432755\n",
      "min           1.000000\n",
      "25%           2.000000\n",
      "50%           6.000000\n",
      "75%          26.000000\n",
      "max      185606.000000\n",
      "Name: rating_number, dtype: float64\n"
     ]
    }
   ],
   "source": [
    "print(meta['rating_number'].describe())"
   ]
  },
  {
   "cell_type": "code",
   "execution_count": 9,
   "metadata": {},
   "outputs": [
    {
     "data": {
      "text/plain": [
       "['The Marvel Collector Corps subscription box celebrates iconic Marvel moments and crossovers.',\n",
       " 'Each blind box contains 4 to 5 exclusive collectibles',\n",
       " 'The best of the Marvel universe! Created and curated by Funko, delivered by Amazon, this subscription box is designed to delight Marvel fans, Funko Funatics, and everyone in between.',\n",
       " 'Every other month a new Marvel Collector Corps subscription box is released, and each box has a different theme and offers a hint to the theme of the next subscription box.',\n",
       " 'Celebrate your favorite Super Heroes, Antiheroes, Super Villains, and Marvel moments by subscribing today!']"
      ]
     },
     "execution_count": 9,
     "metadata": {},
     "output_type": "execute_result"
    }
   ],
   "source": [
    "meta['features'].iloc[-2]"
   ]
  },
  {
   "cell_type": "markdown",
   "metadata": {},
   "source": [
    "Gioi thieu san pham, theo dinh dang list\n",
    "\n",
    "Trong moi list se gom cac dong gioi thieu sp (cac dong nay tuong ung voi 1 dau dong)\n",
    "\n",
    "List rong -> Ko co gioi thieu"
   ]
  },
  {
   "cell_type": "code",
   "execution_count": 10,
   "metadata": {},
   "outputs": [
    {
     "data": {
      "text/plain": [
       "2                                                [CD ALBUM]\n",
       "4                      [Sold out. Numbered limited edition]\n",
       "5         [2-disc CD set. Disc 1 \"Escape\" by Steve Middl...\n",
       "7         [Metamusic is more than music.It incorporates ...\n",
       "9         [The Minimalim of Erik Satie by The Vienna Art...\n",
       "                                ...                        \n",
       "135351    [General magazine for Seventh-Day Adventist Ch...\n",
       "135352    [The Bark delivers a smart mix of health, beha...\n",
       "135354    [V Magazine, was launched in September 1999 as...\n",
       "135355    [Published since 1972,, Victorian Review, is a...\n",
       "135356    [A news magazine targeted at the wider public,...\n",
       "Name: description, Length: 48235, dtype: object"
      ]
     },
     "execution_count": 10,
     "metadata": {},
     "output_type": "execute_result"
    }
   ],
   "source": [
    "meta[meta['description'].apply(len)!=0]['description']"
   ]
  },
  {
   "cell_type": "markdown",
   "metadata": {},
   "source": [
    "Mo ta san pham duoi dang van ban nam trong list\n",
    "\n",
    "List rong -> Ko co mo ta"
   ]
  },
  {
   "cell_type": "code",
   "execution_count": 11,
   "metadata": {},
   "outputs": [
    {
     "name": "stdout",
     "output_type": "stream",
     "text": [
      "[14.98 57.99 29.91 ... 94.49 56.25 '—']\n"
     ]
    },
    {
     "data": {
      "text/plain": [
       "count    51041.000000\n",
       "mean        41.022469\n",
       "std         95.652489\n",
       "min          0.010000\n",
       "25%         12.950000\n",
       "50%         22.990000\n",
       "75%         41.000000\n",
       "max       4449.000000\n",
       "Name: price, dtype: float64"
      ]
     },
     "execution_count": 11,
     "metadata": {},
     "output_type": "execute_result"
    }
   ],
   "source": [
    "not_null_price = meta[meta['price'].notna()]['price']\n",
    "print(not_null_price.unique())\n",
    "not_null_price[not_null_price != '—'].astype(float).describe()"
   ]
  },
  {
   "cell_type": "code",
   "execution_count": 12,
   "metadata": {},
   "outputs": [
    {
     "data": {
      "text/plain": [
       "[{'thumb': 'https://m.media-amazon.com/images/I/41Ybjkgml6L._SS40_.jpg',\n",
       "  'large': 'https://m.media-amazon.com/images/I/41Ybjkgml6L.jpg',\n",
       "  'variant': 'MAIN',\n",
       "  'hi_res': None},\n",
       " {'thumb': 'https://m.media-amazon.com/images/I/4138lvSYarL._SS40_.jpg',\n",
       "  'large': 'https://m.media-amazon.com/images/I/4138lvSYarL.jpg',\n",
       "  'variant': 'PT01',\n",
       "  'hi_res': None}]"
      ]
     },
     "execution_count": 12,
     "metadata": {},
     "output_type": "execute_result"
    }
   ],
   "source": [
    "meta['images'].iloc[1000]"
   ]
  },
  {
   "cell_type": "code",
   "execution_count": 13,
   "metadata": {},
   "outputs": [
    {
     "data": {
      "text/plain": [
       "2"
      ]
     },
     "execution_count": 13,
     "metadata": {},
     "output_type": "execute_result"
    }
   ],
   "source": [
    "len(meta[meta['images'].apply(len)==0])"
   ]
  },
  {
   "cell_type": "markdown",
   "metadata": {},
   "source": [
    "List cua cac dictionary, co 2 list rong\n",
    "\n",
    "Moi dictionary la mot bien the cua anh\n",
    "\n",
    "Trong moi dictionary gom link anh theo size va loai bien th"
   ]
  },
  {
   "cell_type": "code",
   "execution_count": 14,
   "metadata": {},
   "outputs": [
    {
     "data": {
      "text/plain": [
       "[{'title': 'ONE OF TAYLOR’S  BEST ALBUMS!!!',\n",
       "  'url': 'https://www.amazon.com/vdp/0ea53bd0ef0f4f8aaab02395c9370d95?ref=dp_vse_rvc_0',\n",
       "  'user_id': 'AGJQSIZIG6ZBJIJ4VWTAGNMBMT7Q'},\n",
       " {'title': 'Perfect',\n",
       "  'url': 'https://www.amazon.com/vdp/004a43d52d084f5794a9d0e307999205?ref=dp_vse_rvc_1',\n",
       "  'user_id': 'AHCKT6MEGU6TXLF7KFS4WCXFHRMQ'}]"
      ]
     },
     "execution_count": 14,
     "metadata": {},
     "output_type": "execute_result"
    }
   ],
   "source": [
    "meta[meta['videos'].apply(len)!=0]['videos'].iloc[2]"
   ]
  },
  {
   "cell_type": "code",
   "execution_count": 48,
   "metadata": {},
   "outputs": [
    {
     "data": {
      "text/plain": [
       "0.9368524768564475"
      ]
     },
     "execution_count": 48,
     "metadata": {},
     "output_type": "execute_result"
    }
   ],
   "source": [
    "len(meta[meta['videos'].apply(len)==0]['videos'])/len(meta)"
   ]
  },
  {
   "cell_type": "markdown",
   "metadata": {},
   "source": [
    "List cua cac dictionary, the hien cac video dinh kem ve san pham duoc dang boi cac nguoi dung(ko nhat thiet la ng ban)\n",
    "\n",
    "List rong -> Ko co video dinh kem (da phan la list rong)"
   ]
  },
  {
   "cell_type": "code",
   "execution_count": 47,
   "metadata": {},
   "outputs": [
    {
     "data": {
      "text/plain": [
       "0.9729630364929154"
      ]
     },
     "execution_count": 47,
     "metadata": {},
     "output_type": "execute_result"
    }
   ],
   "source": [
    "len(meta[meta['categories'].apply(len)==0])/len(meta)"
   ]
  },
  {
   "cell_type": "code",
   "execution_count": 17,
   "metadata": {},
   "outputs": [
    {
     "data": {
      "text/plain": [
       "2842        [Digital Music, Music By Price, $5.00 to $5.99]\n",
       "3253        [Digital Music, Music By Price, $5.00 to $5.99]\n",
       "23385     [Digital Music, International Music, Far East ...\n",
       "30511                              [Digital Music, Country]\n",
       "35899       [Digital Music, Music By Price, $8.00 to $8.99]\n",
       "                                ...                        \n",
       "135351    [Magazine Subscriptions, Professional & Educat...\n",
       "135352             [Magazine Subscriptions, Pets & Animals]\n",
       "135353    [Magazine Subscriptions, Travel, City & Region...\n",
       "135354       [Magazine Subscriptions, Fashion & Style, Men]\n",
       "135357    [Magazine Subscriptions, Sports, Recreation & ...\n",
       "Name: categories, Length: 3677, dtype: object"
      ]
     },
     "execution_count": 17,
     "metadata": {},
     "output_type": "execute_result"
    }
   ],
   "source": [
    "meta[meta['categories'].apply(len)!=0]['categories']"
   ]
  },
  {
   "cell_type": "markdown",
   "metadata": {},
   "source": [
    "List cua cac gia tri phan loai san pham, gia tri dau tien cua moi list la gi tri main_category\n",
    "\n",
    "Da phan la list rong"
   ]
  },
  {
   "cell_type": "code",
   "execution_count": 18,
   "metadata": {},
   "outputs": [
    {
     "data": {
      "text/plain": [
       "0             {'Date First Available': 'February 28, 2010'}\n",
       "1         {'Package Dimensions': '5.55 x 4.97 x 0.54 inc...\n",
       "2         {'Is Discontinued By Manufacturer': 'No', 'Pac...\n",
       "3         {'Manufacturer': 'Hungaroton / White Label', '...\n",
       "4         {'Package Dimensions': '5.55 x 4.97 x 0.54 inc...\n",
       "                                ...                        \n",
       "135994                                                   {}\n",
       "135995                                                   {}\n",
       "135996                                                   {}\n",
       "135997                                                   {}\n",
       "135998                                                   {}\n",
       "Name: details, Length: 135999, dtype: object"
      ]
     },
     "execution_count": 18,
     "metadata": {},
     "output_type": "execute_result"
    }
   ],
   "source": [
    "meta['details']"
   ]
  },
  {
   "cell_type": "code",
   "execution_count": 46,
   "metadata": {},
   "outputs": [
    {
     "data": {
      "text/plain": [
       "0.031081110890521253"
      ]
     },
     "execution_count": 46,
     "metadata": {},
     "output_type": "execute_result"
    }
   ],
   "source": [
    "len(meta[meta['details'].apply(len)==0])/len(meta)"
   ]
  },
  {
   "cell_type": "markdown",
   "metadata": {},
   "source": [
    "Dictionary cua cac details, key la details, value la thong tin details\n",
    "\n",
    "Co nhieu loai details, khong co thong tin details -> details ko nam trong dict"
   ]
  },
  {
   "cell_type": "markdown",
   "metadata": {},
   "source": [
    "# Review EDA "
   ]
  },
  {
   "cell_type": "code",
   "execution_count": 23,
   "metadata": {},
   "outputs": [
    {
     "data": {
      "text/html": [
       "<div>\n",
       "<style scoped>\n",
       "    .dataframe tbody tr th:only-of-type {\n",
       "        vertical-align: middle;\n",
       "    }\n",
       "\n",
       "    .dataframe tbody tr th {\n",
       "        vertical-align: top;\n",
       "    }\n",
       "\n",
       "    .dataframe thead th {\n",
       "        text-align: right;\n",
       "    }\n",
       "</style>\n",
       "<table border=\"1\" class=\"dataframe\">\n",
       "  <thead>\n",
       "    <tr style=\"text-align: right;\">\n",
       "      <th></th>\n",
       "      <th>rating</th>\n",
       "      <th>title</th>\n",
       "      <th>text</th>\n",
       "      <th>images</th>\n",
       "      <th>asin</th>\n",
       "      <th>parent_asin</th>\n",
       "      <th>user_id</th>\n",
       "      <th>timestamp</th>\n",
       "      <th>helpful_vote</th>\n",
       "      <th>verified_purchase</th>\n",
       "    </tr>\n",
       "  </thead>\n",
       "  <tbody>\n",
       "    <tr>\n",
       "      <th>0</th>\n",
       "      <td>5.0</td>\n",
       "      <td>Nice</td>\n",
       "      <td>If i had a dollar for how many times I have pl...</td>\n",
       "      <td>[]</td>\n",
       "      <td>B004RQ2IRG</td>\n",
       "      <td>B004RQ2IRG</td>\n",
       "      <td>AFUOYIZBU3MTBOLYKOJE5Z35MBDA</td>\n",
       "      <td>1618972613292</td>\n",
       "      <td>0</td>\n",
       "      <td>True</td>\n",
       "    </tr>\n",
       "    <tr>\n",
       "      <th>1</th>\n",
       "      <td>5.0</td>\n",
       "      <td>Excellent</td>\n",
       "      <td>awesome sound - cant wait to see them in perso...</td>\n",
       "      <td>[]</td>\n",
       "      <td>B0026UZEI0</td>\n",
       "      <td>B0026UZEI0</td>\n",
       "      <td>AHGAOIZVODNHYMNCBV4DECZH42UQ</td>\n",
       "      <td>1308167525000</td>\n",
       "      <td>0</td>\n",
       "      <td>True</td>\n",
       "    </tr>\n",
       "    <tr>\n",
       "      <th>2</th>\n",
       "      <td>5.0</td>\n",
       "      <td>Great service</td>\n",
       "      <td>This is a great cd. Good music and plays well....</td>\n",
       "      <td>[]</td>\n",
       "      <td>B0055JSYHC</td>\n",
       "      <td>B0055JSYHC</td>\n",
       "      <td>AFGEM6BXCYHUILEOA3P2ZYBEF2TA</td>\n",
       "      <td>1615838793006</td>\n",
       "      <td>0</td>\n",
       "      <td>True</td>\n",
       "    </tr>\n",
       "    <tr>\n",
       "      <th>3</th>\n",
       "      <td>1.0</td>\n",
       "      <td>No good</td>\n",
       "      <td>These are not real German singers, they have a...</td>\n",
       "      <td>[]</td>\n",
       "      <td>B000F9SMUQ</td>\n",
       "      <td>B000F9SMUQ</td>\n",
       "      <td>AH3OG6QD6EDJGZRVCFKV4B66VWNQ</td>\n",
       "      <td>1405219741000</td>\n",
       "      <td>0</td>\n",
       "      <td>True</td>\n",
       "    </tr>\n",
       "    <tr>\n",
       "      <th>4</th>\n",
       "      <td>3.0</td>\n",
       "      <td>Cool concept, so-so execution...</td>\n",
       "      <td>I first heard this playing in a Nagoya shop an...</td>\n",
       "      <td>[]</td>\n",
       "      <td>B0049D1WVK</td>\n",
       "      <td>B0049D1WVK</td>\n",
       "      <td>AFW2PDT3AMT4X3PYQG7FJZH5FXFA</td>\n",
       "      <td>1309029595000</td>\n",
       "      <td>0</td>\n",
       "      <td>False</td>\n",
       "    </tr>\n",
       "  </tbody>\n",
       "</table>\n",
       "</div>"
      ],
      "text/plain": [
       "   rating                             title  \\\n",
       "0     5.0                              Nice   \n",
       "1     5.0                         Excellent   \n",
       "2     5.0                     Great service   \n",
       "3     1.0                           No good   \n",
       "4     3.0  Cool concept, so-so execution...   \n",
       "\n",
       "                                                text images        asin  \\\n",
       "0  If i had a dollar for how many times I have pl...     []  B004RQ2IRG   \n",
       "1  awesome sound - cant wait to see them in perso...     []  B0026UZEI0   \n",
       "2  This is a great cd. Good music and plays well....     []  B0055JSYHC   \n",
       "3  These are not real German singers, they have a...     []  B000F9SMUQ   \n",
       "4  I first heard this playing in a Nagoya shop an...     []  B0049D1WVK   \n",
       "\n",
       "  parent_asin                       user_id      timestamp  helpful_vote  \\\n",
       "0  B004RQ2IRG  AFUOYIZBU3MTBOLYKOJE5Z35MBDA  1618972613292             0   \n",
       "1  B0026UZEI0  AHGAOIZVODNHYMNCBV4DECZH42UQ  1308167525000             0   \n",
       "2  B0055JSYHC  AFGEM6BXCYHUILEOA3P2ZYBEF2TA  1615838793006             0   \n",
       "3  B000F9SMUQ  AH3OG6QD6EDJGZRVCFKV4B66VWNQ  1405219741000             0   \n",
       "4  B0049D1WVK  AFW2PDT3AMT4X3PYQG7FJZH5FXFA  1309029595000             0   \n",
       "\n",
       "   verified_purchase  \n",
       "0               True  \n",
       "1               True  \n",
       "2               True  \n",
       "3               True  \n",
       "4              False  "
      ]
     },
     "execution_count": 23,
     "metadata": {},
     "output_type": "execute_result"
    }
   ],
   "source": [
    "review.head()"
   ]
  },
  {
   "cell_type": "code",
   "execution_count": 20,
   "metadata": {},
   "outputs": [
    {
     "name": "stdout",
     "output_type": "stream",
     "text": [
      "<class 'pandas.core.frame.DataFrame'>\n",
      "RangeIndex: 864678 entries, 0 to 864677\n",
      "Data columns (total 10 columns):\n",
      " #   Column             Non-Null Count   Dtype  \n",
      "---  ------             --------------   -----  \n",
      " 0   rating             864678 non-null  float64\n",
      " 1   title              864678 non-null  object \n",
      " 2   text               864678 non-null  object \n",
      " 3   images             864678 non-null  object \n",
      " 4   asin               864678 non-null  object \n",
      " 5   parent_asin        864678 non-null  object \n",
      " 6   user_id            864678 non-null  object \n",
      " 7   timestamp          864678 non-null  int64  \n",
      " 8   helpful_vote       864678 non-null  int64  \n",
      " 9   verified_purchase  864678 non-null  bool   \n",
      "dtypes: bool(1), float64(1), int64(2), object(6)\n",
      "memory usage: 60.2+ MB\n"
     ]
    }
   ],
   "source": [
    "review.info()"
   ]
  },
  {
   "cell_type": "code",
   "execution_count": 25,
   "metadata": {},
   "outputs": [
    {
     "data": {
      "text/plain": [
       "rating               0.0\n",
       "title                0.0\n",
       "text                 0.0\n",
       "images               0.0\n",
       "asin                 0.0\n",
       "parent_asin          0.0\n",
       "user_id              0.0\n",
       "timestamp            0.0\n",
       "helpful_vote         0.0\n",
       "verified_purchase    0.0\n",
       "dtype: float64"
      ]
     },
     "execution_count": 25,
     "metadata": {},
     "output_type": "execute_result"
    }
   ],
   "source": [
    "review.isna().sum()/len(review)"
   ]
  },
  {
   "cell_type": "markdown",
   "metadata": {},
   "source": [
    "Khong co missing value -> Nice!"
   ]
  },
  {
   "cell_type": "code",
   "execution_count": 26,
   "metadata": {},
   "outputs": [
    {
     "data": {
      "text/plain": [
       "count    864678.000000\n",
       "mean          4.174554\n",
       "std           1.390170\n",
       "min           1.000000\n",
       "25%           4.000000\n",
       "50%           5.000000\n",
       "75%           5.000000\n",
       "max           5.000000\n",
       "Name: rating, dtype: float64"
      ]
     },
     "execution_count": 26,
     "metadata": {},
     "output_type": "execute_result"
    }
   ],
   "source": [
    "review['rating'].describe()"
   ]
  },
  {
   "cell_type": "code",
   "execution_count": 45,
   "metadata": {},
   "outputs": [
    {
     "data": {
      "text/plain": [
       "0.9679452929298537"
      ]
     },
     "execution_count": 45,
     "metadata": {},
     "output_type": "execute_result"
    }
   ],
   "source": [
    "len(review[review['images'].apply(len)==0])/len(review)"
   ]
  },
  {
   "cell_type": "code",
   "execution_count": 40,
   "metadata": {},
   "outputs": [
    {
     "data": {
      "text/plain": [
       "36        [{'small_image_url': 'https://images-na.ssl-im...\n",
       "124       [{'small_image_url': 'https://images-na.ssl-im...\n",
       "165       [{'small_image_url': 'https://m.media-amazon.c...\n",
       "475       [{'small_image_url': 'https://images-na.ssl-im...\n",
       "651       [{'small_image_url': 'https://images-na.ssl-im...\n",
       "                                ...                        \n",
       "864640    [{'small_image_url': 'https://images-na.ssl-im...\n",
       "864641    [{'small_image_url': 'https://images-na.ssl-im...\n",
       "864649    [{'small_image_url': 'https://m.media-amazon.c...\n",
       "864675    [{'small_image_url': 'https://images-na.ssl-im...\n",
       "864676    [{'small_image_url': 'https://m.media-amazon.c...\n",
       "Name: images, Length: 27717, dtype: object"
      ]
     },
     "execution_count": 40,
     "metadata": {},
     "output_type": "execute_result"
    }
   ],
   "source": [
    "review[review['images'].apply(len)!=0]['images']"
   ]
  },
  {
   "cell_type": "markdown",
   "metadata": {},
   "source": [
    "List cua cac dictionary chua image, cang nhieu image -> cang nhieu dictionary\n",
    "\n",
    "attachment_type: thuong la 'IMAGE', co the la 'VIDEO'?\n",
    "\n",
    "Da phan la list rong"
   ]
  },
  {
   "cell_type": "code",
   "execution_count": 44,
   "metadata": {},
   "outputs": [
    {
     "data": {
      "text/plain": [
       "0.8047007093970241"
      ]
     },
     "execution_count": 44,
     "metadata": {},
     "output_type": "execute_result"
    }
   ],
   "source": [
    "(review['asin'] == review['parent_asin']).sum()/len(review)"
   ]
  },
  {
   "cell_type": "code",
   "execution_count": 56,
   "metadata": {},
   "outputs": [
    {
     "data": {
      "text/html": [
       "<div>\n",
       "<style scoped>\n",
       "    .dataframe tbody tr th:only-of-type {\n",
       "        vertical-align: middle;\n",
       "    }\n",
       "\n",
       "    .dataframe tbody tr th {\n",
       "        vertical-align: top;\n",
       "    }\n",
       "\n",
       "    .dataframe thead th {\n",
       "        text-align: right;\n",
       "    }\n",
       "</style>\n",
       "<table border=\"1\" class=\"dataframe\">\n",
       "  <thead>\n",
       "    <tr style=\"text-align: right;\">\n",
       "      <th></th>\n",
       "      <th>asin</th>\n",
       "      <th>parent_asin</th>\n",
       "    </tr>\n",
       "  </thead>\n",
       "  <tbody>\n",
       "    <tr>\n",
       "      <th>12736</th>\n",
       "      <td>B07T4MV76C</td>\n",
       "      <td>B081SC5728</td>\n",
       "    </tr>\n",
       "    <tr>\n",
       "      <th>17759</th>\n",
       "      <td>B07QKGT278</td>\n",
       "      <td>B09GXLK31G</td>\n",
       "    </tr>\n",
       "    <tr>\n",
       "      <th>17772</th>\n",
       "      <td>B07PNKB71P</td>\n",
       "      <td>B099QXHZWV</td>\n",
       "    </tr>\n",
       "    <tr>\n",
       "      <th>23987</th>\n",
       "      <td>B07R7S5KZ1</td>\n",
       "      <td>B09GXL9WCY</td>\n",
       "    </tr>\n",
       "    <tr>\n",
       "      <th>23988</th>\n",
       "      <td>B07RB37YSN</td>\n",
       "      <td>B09GXL9WCY</td>\n",
       "    </tr>\n",
       "    <tr>\n",
       "      <th>...</th>\n",
       "      <td>...</td>\n",
       "      <td>...</td>\n",
       "    </tr>\n",
       "    <tr>\n",
       "      <th>864667</th>\n",
       "      <td>B07QC7BQ12</td>\n",
       "      <td>B07QC7KJNY</td>\n",
       "    </tr>\n",
       "    <tr>\n",
       "      <th>864668</th>\n",
       "      <td>B07QHFMRL1</td>\n",
       "      <td>B07QC7KJNY</td>\n",
       "    </tr>\n",
       "    <tr>\n",
       "      <th>864669</th>\n",
       "      <td>B08DDJ1QRS</td>\n",
       "      <td>B09TMNNYWH</td>\n",
       "    </tr>\n",
       "    <tr>\n",
       "      <th>864672</th>\n",
       "      <td>B07DNLG9ZR</td>\n",
       "      <td>B07DNLTBG7</td>\n",
       "    </tr>\n",
       "    <tr>\n",
       "      <th>864673</th>\n",
       "      <td>B08DDJ1QRS</td>\n",
       "      <td>B09TMNNYWH</td>\n",
       "    </tr>\n",
       "  </tbody>\n",
       "</table>\n",
       "<p>168871 rows × 2 columns</p>\n",
       "</div>"
      ],
      "text/plain": [
       "              asin parent_asin\n",
       "12736   B07T4MV76C  B081SC5728\n",
       "17759   B07QKGT278  B09GXLK31G\n",
       "17772   B07PNKB71P  B099QXHZWV\n",
       "23987   B07R7S5KZ1  B09GXL9WCY\n",
       "23988   B07RB37YSN  B09GXL9WCY\n",
       "...            ...         ...\n",
       "864667  B07QC7BQ12  B07QC7KJNY\n",
       "864668  B07QHFMRL1  B07QC7KJNY\n",
       "864669  B08DDJ1QRS  B09TMNNYWH\n",
       "864672  B07DNLG9ZR  B07DNLTBG7\n",
       "864673  B08DDJ1QRS  B09TMNNYWH\n",
       "\n",
       "[168871 rows x 2 columns]"
      ]
     },
     "execution_count": 56,
     "metadata": {},
     "output_type": "execute_result"
    }
   ],
   "source": [
    "review[review['asin'] != review['parent_asin']][['asin', 'parent_asin']]"
   ]
  },
  {
   "cell_type": "markdown",
   "metadata": {},
   "source": [
    "Cac asin(id cua product) da phan giong cac parent asin(id goc cua product) - 80%\n",
    "\n",
    "Su khac nhau la do 1 product co the co nhieu mau ma, mau sac, ..."
   ]
  },
  {
   "cell_type": "code",
   "execution_count": 49,
   "metadata": {},
   "outputs": [
    {
     "data": {
      "text/plain": [
       "0         1618972613292\n",
       "1         1308167525000\n",
       "2         1615838793006\n",
       "3         1405219741000\n",
       "4         1309029595000\n",
       "              ...      \n",
       "864673    1608846627043\n",
       "864674    1552764727421\n",
       "864675    1575580196049\n",
       "864676    1656510163413\n",
       "864677    1626557904080\n",
       "Name: timestamp, Length: 864678, dtype: int64"
      ]
     },
     "execution_count": 49,
     "metadata": {},
     "output_type": "execute_result"
    }
   ],
   "source": [
    "review['timestamp']"
   ]
  },
  {
   "cell_type": "markdown",
   "metadata": {},
   "source": [
    "Tinh thoi gian theo Unix(so mili giay da qua ke tu 1/1/1970)\n",
    "\n",
    "Chia cho 1000 ra giay -> Tu giay chuyen sang ngay dang"
   ]
  },
  {
   "cell_type": "code",
   "execution_count": 52,
   "metadata": {},
   "outputs": [
    {
     "data": {
      "text/plain": [
       "count    864678.000000\n",
       "mean          1.416639\n",
       "std          16.652645\n",
       "min           0.000000\n",
       "25%           0.000000\n",
       "50%           0.000000\n",
       "75%           1.000000\n",
       "max        7326.000000\n",
       "Name: helpful_vote, dtype: float64"
      ]
     },
     "execution_count": 52,
     "metadata": {},
     "output_type": "execute_result"
    }
   ],
   "source": [
    "review['helpful_vote'].describe()"
   ]
  },
  {
   "cell_type": "code",
   "execution_count": 55,
   "metadata": {},
   "outputs": [
    {
     "data": {
      "text/plain": [
       "0.7110010894228834"
      ]
     },
     "execution_count": 55,
     "metadata": {},
     "output_type": "execute_result"
    }
   ],
   "source": [
    "review['helpful_vote'].value_counts()[0]/len(review)"
   ]
  },
  {
   "cell_type": "markdown",
   "metadata": {},
   "source": [
    "Chiem 71% la gia tri 0"
   ]
  },
  {
   "cell_type": "code",
   "execution_count": 57,
   "metadata": {},
   "outputs": [
    {
     "data": {
      "text/plain": [
       "verified_purchase\n",
       "True     755634\n",
       "False    109044\n",
       "Name: count, dtype: int64"
      ]
     },
     "execution_count": 57,
     "metadata": {},
     "output_type": "execute_result"
    }
   ],
   "source": [
    "review['verified_purchase'].value_counts()"
   ]
  }
 ],
 "metadata": {
  "kernelspec": {
   "display_name": "base",
   "language": "python",
   "name": "python3"
  },
  "language_info": {
   "codemirror_mode": {
    "name": "ipython",
    "version": 3
   },
   "file_extension": ".py",
   "mimetype": "text/x-python",
   "name": "python",
   "nbconvert_exporter": "python",
   "pygments_lexer": "ipython3",
   "version": "3.11.7"
  }
 },
 "nbformat": 4,
 "nbformat_minor": 2
}
